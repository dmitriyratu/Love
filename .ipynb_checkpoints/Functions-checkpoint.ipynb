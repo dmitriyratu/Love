{
 "cells": [
  {
   "cell_type": "code",
   "execution_count": null,
   "id": "0197bdbd-e8ab-46d3-9e86-8abaa5f20f31",
   "metadata": {},
   "outputs": [],
   "source": [
    "import pandas as pd\n",
    "\n",
    "\n",
    "def disp_all(df):\n",
    "\n",
    "    max_rows = pd.get_option('display.max_rows')\n",
    "    max_columns = pd.get_option('display.max_columns')\n",
    "\n",
    "    pd.set_option('display.max_rows', None)\n",
    "    pd.set_option('display.max_columns', None)\n",
    "\n",
    "    display(df)\n",
    "\n",
    "    pd.set_option('display.max_rows', max_rows)\n",
    "    pd.set_option('display.max_columns', max_columns)\n"
   ]
  }
 ],
 "metadata": {
  "kernelspec": {
   "display_name": "Python 3 (ipykernel)",
   "language": "python",
   "name": "python3"
  },
  "language_info": {
   "codemirror_mode": {
    "name": "ipython",
    "version": 3
   },
   "file_extension": ".py",
   "mimetype": "text/x-python",
   "name": "python",
   "nbconvert_exporter": "python",
   "pygments_lexer": "ipython3",
   "version": "3.11.4"
  },
  "widgets": {
   "application/vnd.jupyter.widget-state+json": {
    "state": {},
    "version_major": 2,
    "version_minor": 0
   }
  }
 },
 "nbformat": 4,
 "nbformat_minor": 5
}
